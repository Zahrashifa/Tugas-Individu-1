{
 "cells": [
  {
   "cell_type": "code",
   "execution_count": 11,
   "id": "bb9c134b-3a4e-45f5-a8a7-d0a79e79514d",
   "metadata": {},
   "outputs": [],
   "source": [
    "#importing the required libraries\n",
    "import cv2\n",
    "import face_recognition"
   ]
  },
  {
   "cell_type": "code",
   "execution_count": 12,
   "id": "8c7d49e9-e267-49c0-87d5-da165c35dc22",
   "metadata": {},
   "outputs": [],
   "source": [
    "#loading the image to detect\n",
    "original_image = cv2.imread('zahra12.jpeg')"
   ]
  },
  {
   "cell_type": "code",
   "execution_count": 13,
   "id": "4cb0ad1a-f8fd-4336-ac33-fbc37b48427e",
   "metadata": {},
   "outputs": [],
   "source": [
    "#load the sample images and get the 128 face embeddings from them\n",
    "zaza_image = face_recognition.load_image_file('zaza.png')\n",
    "zaza_face_encodings = face_recognition.face_encodings(zaza_image)[0]"
   ]
  },
  {
   "cell_type": "code",
   "execution_count": 14,
   "id": "1852b1cb-0dfd-4672-8660-93593cde1f3c",
   "metadata": {},
   "outputs": [],
   "source": [
    "#load the sample images and get the 128 face embeddings from them\n",
    "pit_image = face_recognition.load_image_file('pit.png')\n",
    "pit_face_encodings = face_recognition.face_encodings(pit_image)[0]"
   ]
  },
  {
   "cell_type": "code",
   "execution_count": 15,
   "id": "400d1495-de48-414f-918d-0d292091e07c",
   "metadata": {},
   "outputs": [],
   "source": [
    "#save the encodings and the corresponding labels in seperate arrays in the same order\n",
    "known_face_encodings = [zaza_face_encodings, pit_face_encodings]\n",
    "known_face_names = [\"Zahra Shifa nim: 562020120012\", \"Fitri\"]"
   ]
  },
  {
   "cell_type": "code",
   "execution_count": 16,
   "id": "75320b54-0550-44e7-9f9e-ee2bb93b030e",
   "metadata": {},
   "outputs": [],
   "source": [
    "#load the unknown image to recognize faces in it\n",
    "image_to_recognize = face_recognition.load_image_file('zahra12.jpeg')"
   ]
  },
  {
   "cell_type": "code",
   "execution_count": 17,
   "id": "400bad96-127c-433b-87f5-22da11dd5c90",
   "metadata": {},
   "outputs": [],
   "source": [
    "#detect all faces in the image\n",
    "#arguments are image,no_of_times_to_upsample, model\n",
    "all_face_locations = face_recognition.face_locations(image_to_recognize,model='hog')\n",
    "#detect face encodings for all the faces detected\n",
    "all_face_encodings = face_recognition.face_encodings(image_to_recognize,all_face_locations)"
   ]
  },
  {
   "cell_type": "code",
   "execution_count": 18,
   "id": "720ec23e-7f63-4a47-80dd-3dcc080f6734",
   "metadata": {},
   "outputs": [
    {
     "name": "stdout",
     "output_type": "stream",
     "text": [
      "There are 3 no of faces in this image\n"
     ]
    }
   ],
   "source": [
    "#print the number of faces detected\n",
    "print('There are {} no of faces in this image'.format(len(all_face_locations)))"
   ]
  },
  {
   "cell_type": "code",
   "execution_count": 19,
   "id": "9ad1635f-bb80-44b1-9385-40b483223977",
   "metadata": {},
   "outputs": [
    {
     "data": {
      "text/plain": [
       "-1"
      ]
     },
     "execution_count": 19,
     "metadata": {},
     "output_type": "execute_result"
    }
   ],
   "source": [
    "#looping through the face locations and the face embeddings\n",
    "for current_face_location,current_face_encoding in zip(all_face_locations,all_face_encodings):\n",
    "    #splitting the tuple to get the four position values of current face\n",
    "    top_pos,right_pos,bottom_pos,left_pos = current_face_location\n",
    "    \n",
    "    \n",
    "    #find all the matches and get the list of matches\n",
    "    all_matches = face_recognition.compare_faces(known_face_encodings, current_face_encoding)\n",
    "   \n",
    "    #string to hold the label\n",
    "    name_of_person = 'Unknown face'\n",
    "    \n",
    "    #check if the all_matches have at least one item\n",
    "    #if yes, get the index number of face that is located in the first index of all_matches\n",
    "    #get the name corresponding to the index number and save it in name_of_person\n",
    "    if True in all_matches:\n",
    "        first_match_index = all_matches.index(True)\n",
    "        name_of_person = known_face_names[first_match_index]\n",
    "            \n",
    "    #draw rectangle around the face    \n",
    "    cv2.rectangle(original_image,(left_pos,top_pos),(right_pos,bottom_pos),(255,0,0),2)\n",
    "    \n",
    "    #display the name as text in the image\n",
    "    font = cv2.FONT_HERSHEY_DUPLEX\n",
    "    cv2.putText(original_image, name_of_person, (left_pos,bottom_pos), font, 0.5, (255,255,255),1)\n",
    "    \n",
    "    #display the image\n",
    "    cv2.imshow(\"Faces Identified\",original_image)\n",
    "cv2.waitKey(0); cv2.destroyAllWindows(); cv2.waitKey(1)\n"
   ]
  },
  {
   "cell_type": "code",
   "execution_count": null,
   "id": "1464aa1a-dba4-40df-b781-1662d77a4a5e",
   "metadata": {},
   "outputs": [],
   "source": []
  }
 ],
 "metadata": {
  "kernelspec": {
   "display_name": "Python 3 (ipykernel)",
   "language": "python",
   "name": "python3"
  },
  "language_info": {
   "codemirror_mode": {
    "name": "ipython",
    "version": 3
   },
   "file_extension": ".py",
   "mimetype": "text/x-python",
   "name": "python",
   "nbconvert_exporter": "python",
   "pygments_lexer": "ipython3",
   "version": "3.9.10"
  }
 },
 "nbformat": 4,
 "nbformat_minor": 5
}
